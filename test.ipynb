{
 "cells": [
  {
   "cell_type": "code",
   "execution_count": 1,
   "metadata": {},
   "outputs": [],
   "source": [
    "# Useful starting lines\n",
    "%matplotlib inline\n",
    "import numpy as np\n",
    "import matplotlib.pyplot as plt\n",
    "from implementations import *\n",
    "%load_ext autoreload\n",
    "%autoreload 2"
   ]
  },
  {
   "cell_type": "code",
   "execution_count": 2,
   "metadata": {},
   "outputs": [],
   "source": [
    "DATA_TRAIN_PATH = \"data/train.csv\"\n",
    "y, tX, ids = load_csv_data(DATA_TRAIN_PATH)\n"
   ]
  },
  {
   "cell_type": "code",
   "execution_count": 3,
   "metadata": {},
   "outputs": [],
   "source": [
    "# split test-train set\n",
    "indx = np.arange(y.shape[0])\n",
    "np.random.shuffle( indx )\n",
    "ind_max = int(y.shape[0] * (0.8))\n",
    "\n",
    "trainY , trainF = y[indx[:ind_max]] , tX[indx[:ind_max]]\n",
    "testY , testF = y[indx[ind_max:]] , tX[indx[ind_max:]]"
   ]
  },
  {
   "cell_type": "code",
   "execution_count": 4,
   "metadata": {},
   "outputs": [],
   "source": [
    "# normalize\n",
    "trainF, testF = normal_standardize(trainF, testF)\n",
    "trainF = np.insert(trainF ,0 , np.ones(trainF.shape[0]),axis = 1) # add bias\n",
    "testF = np.insert(testF ,0 , np.ones(testF.shape[0]),axis = 1) # add bias"
   ]
  },
  {
   "cell_type": "code",
   "execution_count": 5,
   "metadata": {},
   "outputs": [],
   "source": [
    "np.random.seed(0)\n",
    "w_init = np.random.rand(trainF.shape[1])\n"
   ]
  },
  {
   "cell_type": "code",
   "execution_count": 6,
   "metadata": {},
   "outputs": [
    {
     "name": "stdout",
     "output_type": "stream",
     "text": [
      "loss 0.3416739033485873\n",
      "0.74076\n"
     ]
    }
   ],
   "source": [
    "w, loss = least_squares_GD(trainY, trainF, w_init, 200, 0.07)\n",
    "print('loss {}'.format(loss))\n",
    "print(get_accuracy( w , testY , testF))"
   ]
  },
  {
   "cell_type": "code",
   "execution_count": 7,
   "metadata": {},
   "outputs": [
    {
     "name": "stdout",
     "output_type": "stream",
     "text": [
      "loss 543044024.4735373\n",
      "0.4486\n"
     ]
    }
   ],
   "source": [
    "w, loss = least_squares_SGD(trainY, trainF, w_init, 200, 0.07)\n",
    "print('loss {}'.format(loss))\n",
    "print(get_accuracy( w , testY , testF))"
   ]
  },
  {
   "cell_type": "code",
   "execution_count": 8,
   "metadata": {},
   "outputs": [
    {
     "name": "stdout",
     "output_type": "stream",
     "text": [
      "loss 0.3387240301740773\n",
      "0.7433\n"
     ]
    }
   ],
   "source": [
    "w, loss = least_squares(trainY, trainF)\n",
    "print('loss {}'.format(loss))\n",
    "print(get_accuracy( w , testY , testF))"
   ]
  },
  {
   "cell_type": "code",
   "execution_count": 9,
   "metadata": {},
   "outputs": [
    {
     "name": "stdout",
     "output_type": "stream",
     "text": [
      "loss 0.3387240301740773\n",
      "0.7433\n"
     ]
    }
   ],
   "source": [
    "w, loss = ridge_regression(trainY, trainF, 0)\n",
    "print('loss {}'.format(loss))\n",
    "print(get_accuracy( w , testY , testF))"
   ]
  },
  {
   "cell_type": "code",
   "execution_count": 10,
   "metadata": {},
   "outputs": [
    {
     "name": "stdout",
     "output_type": "stream",
     "text": [
      "loss 2239187087.3010435\n",
      "0.45162\n"
     ]
    }
   ],
   "source": [
    "w, loss = logistic_regression(trainY, trainF, w_init, 300, 0.7/y.shape[0] )\n",
    "print('loss {}'.format(loss))\n",
    "print(get_accuracy( w , testY , testF))"
   ]
  },
  {
   "cell_type": "code",
   "execution_count": 11,
   "metadata": {},
   "outputs": [
    {
     "name": "stdout",
     "output_type": "stream",
     "text": [
      "loss 12332628659.621128\n",
      "0.45162\n"
     ]
    }
   ],
   "source": [
    "w, loss = reg_logistic_regression(trainY, trainF, 50, w_init, 300, 0.7/y.shape[0] )\n",
    "print('loss {}'.format(loss))\n",
    "print(get_accuracy( w , testY , testF))"
   ]
  },
  {
   "cell_type": "code",
   "execution_count": null,
   "metadata": {},
   "outputs": [],
   "source": []
  },
  {
   "cell_type": "code",
   "execution_count": null,
   "metadata": {},
   "outputs": [],
   "source": []
  }
 ],
 "metadata": {
  "kernelspec": {
   "display_name": "Python 3",
   "language": "python",
   "name": "python3"
  },
  "language_info": {
   "codemirror_mode": {
    "name": "ipython",
    "version": 3
   },
   "file_extension": ".py",
   "mimetype": "text/x-python",
   "name": "python",
   "nbconvert_exporter": "python",
   "pygments_lexer": "ipython3",
   "version": "3.7.3"
  }
 },
 "nbformat": 4,
 "nbformat_minor": 2
}
