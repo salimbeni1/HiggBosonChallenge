{
 "cells": [
  {
   "cell_type": "code",
   "execution_count": 1,
   "metadata": {},
   "outputs": [],
   "source": [
    "# Useful starting lines\n",
    "%matplotlib inline\n",
    "import numpy as np\n",
    "import matplotlib.pyplot as plt\n",
    "from implementations import *\n",
    "%load_ext autoreload\n",
    "%autoreload 2"
   ]
  },
  {
   "cell_type": "code",
   "execution_count": 5,
   "metadata": {},
   "outputs": [],
   "source": [
    "DATA_TRAIN_PATH = \"data/train.csv\"\n",
    "y, tX, ids = load_csv_data(DATA_TRAIN_PATH)\n"
   ]
  },
  {
   "cell_type": "code",
   "execution_count": 6,
   "metadata": {},
   "outputs": [],
   "source": [
    "# split test-train set\n",
    "indx = np.arange(y.shape[0])\n",
    "np.random.shuffle( indx )\n",
    "ind_max = int(y.shape[0] * (0.8))\n",
    "\n",
    "trainY , trainF = y[indx[:ind_max]] , tX[indx[:ind_max]]\n",
    "testY , testF = y[indx[ind_max:]] , tX[indx[ind_max:]]"
   ]
  },
  {
   "cell_type": "code",
   "execution_count": 7,
   "metadata": {},
   "outputs": [],
   "source": [
    "# normalize\n",
    "trainF, testF = normal_standardize(trainF, testF)\n",
    "trainF = np.insert(trainF ,0 , np.ones(trainF.shape[0]),axis = 1) # add bias\n",
    "testF = np.insert(testF ,0 , np.ones(testF.shape[0]),axis = 1) # add bias"
   ]
  },
  {
   "cell_type": "code",
   "execution_count": 8,
   "metadata": {},
   "outputs": [],
   "source": [
    "np.random.seed(0)\n",
    "w_init = np.random.rand(trainF.shape[1])\n"
   ]
  },
  {
   "cell_type": "code",
   "execution_count": 9,
   "metadata": {},
   "outputs": [
    {
     "name": "stdout",
     "output_type": "stream",
     "text": [
      "loss0.3422065168333481\n",
      "0.74498\n"
     ]
    }
   ],
   "source": [
    "w, loss = least_squares_GD(trainY, trainF, w_init, 200, 0.07)\n",
    "print('loss {}'.format(loss))\n",
    "print(get_accuracy( w , testY , testF))"
   ]
  },
  {
   "cell_type": "code",
   "execution_count": 10,
   "metadata": {},
   "outputs": [
    {
     "name": "stdout",
     "output_type": "stream",
     "text": [
      "loss48155.26477652866\n",
      "0.41378\n"
     ]
    }
   ],
   "source": [
    "w, loss = least_squares_SGD(trainY, trainF, w_init, 200, 0.07)\n",
    "print('loss {}'.format(loss))\n",
    "print(get_accuracy( w , testY , testF))"
   ]
  },
  {
   "cell_type": "code",
   "execution_count": 11,
   "metadata": {},
   "outputs": [
    {
     "name": "stdout",
     "output_type": "stream",
     "text": [
      "loss0.33938062745033837\n",
      "0.74618\n"
     ]
    }
   ],
   "source": [
    "w, loss = least_squares(trainY, trainF)\n",
    "print('loss {}'.format(loss))\n",
    "print(get_accuracy( w , testY , testF))"
   ]
  },
  {
   "cell_type": "code",
   "execution_count": 12,
   "metadata": {},
   "outputs": [
    {
     "name": "stdout",
     "output_type": "stream",
     "text": [
      "loss0.33938062745033837\n",
      "0.74618\n"
     ]
    }
   ],
   "source": [
    "w, loss = ridge_regression(trainY, trainF, 0)\n",
    "print('loss {}'.format(loss))\n",
    "print(get_accuracy( w , testY , testF))"
   ]
  },
  {
   "cell_type": "code",
   "execution_count": 13,
   "metadata": {},
   "outputs": [
    {
     "name": "stdout",
     "output_type": "stream",
     "text": [
      "loss13041815.749191271\n",
      "0.51374\n"
     ]
    }
   ],
   "source": [
    "w, loss = logistic_regression(trainY, trainF, w_init, 300, 0.7)\n",
    "print('loss {}'.format(loss))\n",
    "print(get_accuracy( w , testY , testF))"
   ]
  },
  {
   "cell_type": "code",
   "execution_count": 14,
   "metadata": {},
   "outputs": [
    {
     "name": "stdout",
     "output_type": "stream",
     "text": [
      "loss1140685.0123830198\n",
      "0.51376\n"
     ]
    }
   ],
   "source": [
    "w, loss = reg_logistic_regression(trainY, trainF, 50, w_init, 300, 0.7)\n",
    "print('loss {}'.format(loss))\n",
    "print(get_accuracy( w , testY , testF))"
   ]
  },
  {
   "cell_type": "code",
   "execution_count": null,
   "metadata": {},
   "outputs": [],
   "source": []
  }
 ],
 "metadata": {
  "kernelspec": {
   "display_name": "Python 3",
   "language": "python",
   "name": "python3"
  }
 },
 "nbformat": 4,
 "nbformat_minor": 2
}
