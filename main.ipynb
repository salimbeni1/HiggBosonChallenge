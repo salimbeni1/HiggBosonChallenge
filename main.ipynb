{
 "cells": [
  {
   "cell_type": "code",
   "execution_count": 233,
   "metadata": {},
   "outputs": [
    {
     "name": "stdout",
     "output_type": "stream",
     "text": [
      "The autoreload extension is already loaded. To reload it, use:\n",
      "  %reload_ext autoreload\n"
     ]
    }
   ],
   "source": [
    "# Useful starting lines\n",
    "%matplotlib inline\n",
    "import numpy as np\n",
    "import matplotlib.pyplot as plt\n",
    "from proj1_helpers import *\n",
    "from preprocessing_helpers import *\n",
    "from Basics import *\n",
    "%load_ext autoreload\n",
    "%autoreload 2"
   ]
  },
  {
   "cell_type": "code",
   "execution_count": 199,
   "metadata": {},
   "outputs": [],
   "source": [
    "DATA_TRAIN_PATH = 'data/train.csv' \n",
    "y, tX, ids = load_csv_data(DATA_TRAIN_PATH)\n"
   ]
  },
  {
   "cell_type": "code",
   "execution_count": 200,
   "metadata": {},
   "outputs": [],
   "source": [
    "# split test-train set\n",
    "indx = np.arange(y.shape[0])\n",
    "np.random.shuffle( indx )\n",
    "ind_max = int(y.shape[0] * (0.8))\n",
    "\n",
    "trainY , trainF = y[indx[:ind_max]] , tX[indx[:ind_max]]\n",
    "testY , testF = y[indx[ind_max:]] , tX[indx[ind_max:]]"
   ]
  },
  {
   "cell_type": "code",
   "execution_count": 201,
   "metadata": {},
   "outputs": [],
   "source": [
    "####### Preprocessing ######################################################################"
   ]
  },
  {
   "cell_type": "code",
   "execution_count": 202,
   "metadata": {},
   "outputs": [],
   "source": [
    "# normalize\n",
    "trainF, testF = standardize(trainF, testF)\n",
    "trainF = np.insert(trainF ,0 , np.ones(trainF.shape[0]),axis = 1) # add bias\n",
    "testF = np.insert(testF ,0 , np.ones(testF.shape[0]),axis = 1) # add bias"
   ]
  },
  {
   "cell_type": "code",
   "execution_count": 203,
   "metadata": {},
   "outputs": [],
   "source": [
    "# replace -999\n",
    "trainF, testF = replace_missing_values(trainF,testF, 'mode')\n"
   ]
  },
  {
   "cell_type": "code",
   "execution_count": 204,
   "metadata": {},
   "outputs": [],
   "source": [
    "# replace outliers\n",
    "#trainF = outliers_removal(trainF)\n",
    "#testF = outliers_removal(testF)"
   ]
  },
  {
   "cell_type": "code",
   "execution_count": 205,
   "metadata": {},
   "outputs": [],
   "source": [
    "# dataset balencing\n",
    "#trainF , trainY =  under_over(trainF, trainY, alpha=1, upsample=True, middle=True, gaussian=False, std=0.1, downsample=False)"
   ]
  },
  {
   "cell_type": "code",
   "execution_count": 206,
   "metadata": {},
   "outputs": [
    {
     "name": "stdout",
     "output_type": "stream",
     "text": [
      "TEMP -> 525\n",
      "TEMP -> 525\n"
     ]
    },
    {
     "data": {
      "text/plain": [
       "(200000, 526)"
      ]
     },
     "execution_count": 206,
     "metadata": {},
     "output_type": "execute_result"
    }
   ],
   "source": [
    "# feature selection expansion\n",
    "trainF_sel = select_and_expand_f_logistic(trainF)\n",
    "testF_sel = select_and_expand_f_logistic(testF)\n",
    "\n",
    "trainF_sel.shape"
   ]
  },
  {
   "cell_type": "code",
   "execution_count": 207,
   "metadata": {},
   "outputs": [],
   "source": [
    "###### Training/Testing ######################################################################"
   ]
  },
  {
   "cell_type": "code",
   "execution_count": 240,
   "metadata": {},
   "outputs": [],
   "source": [
    "#w_initial = np.random.rand(trainF_sel.shape[1])\n",
    "#w,_ = least_squares_GD( trainY,trainF_sel ,w_initial,2000,0.01)\n",
    "#get_accuracy(w , testY ,testF_sel )"
   ]
  },
  {
   "cell_type": "code",
   "execution_count": 209,
   "metadata": {},
   "outputs": [],
   "source": [
    "#w_initial = np.random.rand(trainF_sel.shape[1])\n",
    "#w,_ = least_squares(trainY,trainF_sel)\n",
    "#get_accuracy(w , testY ,testF_sel )"
   ]
  },
  {
   "cell_type": "code",
   "execution_count": 210,
   "metadata": {},
   "outputs": [],
   "source": [
    "#w = np.random.rand(trainF_sel.shape[1])\n",
    "#w, losses, _, _, _, _ = foo_logistic_regression(trainY, trainF_sel, w, 1000, 0.01, testY, testF_sel, 0)"
   ]
  },
  {
   "cell_type": "code",
   "execution_count": 236,
   "metadata": {},
   "outputs": [
    {
     "name": "stdout",
     "output_type": "stream",
     "text": [
      "acc 500  :  0.82828\n",
      "acc 1000 :  0.82804\n",
      "acc 2000 :  0.82808\n"
     ]
    }
   ],
   "source": [
    "w = w_win.copy()\n",
    "\n",
    "w, _ = logistic_regression(trainY, trainF_sel, w, 500 ,0.07/y.shape[0])\n",
    "\n",
    "w_500 = w.copy()\n",
    "print( \"acc 500  : \",get_accuracy_logistic(w_500 , testY ,testF_sel))\n",
    "\n",
    "w, _ = logistic_regression(trainY, trainF_sel, w_500, 500 ,0.07/y.shape[0])\n",
    "\n",
    "w_1000 = w.copy()\n",
    "print( \"acc 1000 : \",get_accuracy_logistic(w_1000 , testY ,testF_sel))\n",
    "\n",
    "w, _ = logistic_regression(trainY, trainF_sel, w_1000, 1000 ,0.07/y.shape[0])\n",
    "\n",
    "w_2000 = w.copy()\n",
    "print( \"acc 2000 : \",get_accuracy_logistic(w_2000 , testY ,testF_sel))"
   ]
  },
  {
   "cell_type": "code",
   "execution_count": 212,
   "metadata": {
    "scrolled": true
   },
   "outputs": [
    {
     "name": "stdout",
     "output_type": "stream",
     "text": [
      "acc 3000 :  0.81926\n"
     ]
    }
   ],
   "source": [
    "w, _ = logistic_regression(trainY, trainF_sel, w_2000, 1000 ,0.07/y.shape[0])\n",
    "\n",
    "w_3000 = w.copy()\n",
    "print( \"acc 3000 : \",get_accuracy_logistic(w_3000 , testY ,testF_sel))"
   ]
  },
  {
   "cell_type": "code",
   "execution_count": 213,
   "metadata": {},
   "outputs": [
    {
     "name": "stdout",
     "output_type": "stream",
     "text": [
      "acc 4000 :  0.8217\n"
     ]
    }
   ],
   "source": [
    "w, _ = logistic_regression(trainY, trainF_sel, w_3000, 1000 ,0.07/y.shape[0])\n",
    "\n",
    "w_4000 = w.copy()\n",
    "print( \"acc 4000 : \",get_accuracy_logistic(w_4000 , testY ,testF_sel))"
   ]
  },
  {
   "cell_type": "code",
   "execution_count": 214,
   "metadata": {},
   "outputs": [
    {
     "name": "stdout",
     "output_type": "stream",
     "text": [
      "acc 5000 :  0.82318\n"
     ]
    }
   ],
   "source": [
    "w, _ = logistic_regression(trainY, trainF_sel, w_4000, 1000 ,0.07/y.shape[0])\n",
    "\n",
    "w_5000 = w.copy()\n",
    "print( \"acc 5000 : \",get_accuracy_logistic(w_5000 , testY ,testF_sel))"
   ]
  },
  {
   "cell_type": "code",
   "execution_count": 215,
   "metadata": {},
   "outputs": [
    {
     "name": "stdout",
     "output_type": "stream",
     "text": [
      "acc 7000 :  0.82492\n"
     ]
    }
   ],
   "source": [
    "w, _ = logistic_regression(trainY, trainF_sel, w_5000, 2000 ,0.07/y.shape[0])\n",
    "\n",
    "w_7000 = w.copy()\n",
    "print( \"acc 7000 : \",get_accuracy_logistic(w_7000 , testY ,testF_sel))"
   ]
  },
  {
   "cell_type": "code",
   "execution_count": 216,
   "metadata": {},
   "outputs": [
    {
     "name": "stdout",
     "output_type": "stream",
     "text": [
      "acc 9000 :  0.8259\n"
     ]
    }
   ],
   "source": [
    "w, _ = logistic_regression(trainY, trainF_sel, w_7000, 2000 ,0.07/y.shape[0])\n",
    "\n",
    "w_9000 = w.copy()\n",
    "print( \"acc 9000 : \",get_accuracy_logistic(w_9000 , testY ,testF_sel))"
   ]
  },
  {
   "cell_type": "code",
   "execution_count": 217,
   "metadata": {},
   "outputs": [
    {
     "name": "stdout",
     "output_type": "stream",
     "text": [
      "acc 10000 :  0.82624\n"
     ]
    }
   ],
   "source": [
    "w, _ = logistic_regression(trainY, trainF_sel, w_9000, 1000 ,0.07/y.shape[0])\n",
    "\n",
    "w_10000 = w.copy()\n",
    "print( \"acc 10000 : \",get_accuracy_logistic(w_10000 , testY ,testF_sel))"
   ]
  },
  {
   "cell_type": "code",
   "execution_count": 218,
   "metadata": {},
   "outputs": [
    {
     "name": "stdout",
     "output_type": "stream",
     "text": [
      "acc 15000 :  0.82708\n"
     ]
    }
   ],
   "source": [
    "w, _ = logistic_regression(trainY, trainF_sel, w_10000, 5000 ,0.07/y.shape[0])\n",
    "\n",
    "w_15000 = w.copy()\n",
    "print( \"acc 15000 : \",get_accuracy_logistic(w_15000 , testY ,testF_sel))"
   ]
  },
  {
   "cell_type": "code",
   "execution_count": 219,
   "metadata": {},
   "outputs": [
    {
     "name": "stdout",
     "output_type": "stream",
     "text": [
      "acc 20000 :  0.82756\n"
     ]
    }
   ],
   "source": [
    "w, _ = logistic_regression(trainY, trainF_sel, w_15000, 5000 ,0.07/y.shape[0])\n",
    "\n",
    "w_20000 = w.copy()\n",
    "print( \"acc 20000 : \",get_accuracy_logistic(w_20000 , testY ,testF_sel))"
   ]
  },
  {
   "cell_type": "code",
   "execution_count": 234,
   "metadata": {},
   "outputs": [],
   "source": [
    "w_winning = w_win"
   ]
  },
  {
   "cell_type": "code",
   "execution_count": 237,
   "metadata": {},
   "outputs": [],
   "source": [
    "all_weights = [ w_500 , w_1000 , w_2000 , w_3000 , w_4000 , w_5000 , w_7000 , w_9000 ,w_10000 , w_15000 , w_20000 , w_winning ]\n",
    "all_steps = [ 500 , 1000 , 2000 , 3000 , 4000 , 5000 , 7000 , 9000 , 10000 , 15000 , 20000 , 30000 ]"
   ]
  },
  {
   "cell_type": "code",
   "execution_count": 221,
   "metadata": {},
   "outputs": [],
   "source": [
    "#######################################################################################################################"
   ]
  },
  {
   "cell_type": "code",
   "execution_count": 227,
   "metadata": {},
   "outputs": [],
   "source": [
    "DATA_TRAIN_PATH = 'data/train.csv' \n",
    "y_, tX_, ids_ = load_csv_data(DATA_TRAIN_PATH)\n",
    "DATA_TEST_PATH = 'data/test.csv'\n",
    "y_test, tX_test, ids_test = load_csv_data(DATA_TEST_PATH)\n",
    "\n",
    "trainY_all , trainF_all = y_, tX_\n",
    "testY_all , testF_all = y_test, tX_test"
   ]
  },
  {
   "cell_type": "code",
   "execution_count": 223,
   "metadata": {},
   "outputs": [],
   "source": [
    "# normalize\n",
    "trainF_all, testF_all = standardize(trainF_all, testF_all)\n",
    "trainF_all = np.insert(trainF_all ,0 , np.ones(trainF_all.shape[0]),axis = 1) # add bias\n",
    "testF_all = np.insert(testF_all ,0 , np.ones(testF_all.shape[0]),axis = 1) # add bias"
   ]
  },
  {
   "cell_type": "code",
   "execution_count": 224,
   "metadata": {},
   "outputs": [],
   "source": [
    "# replace -999\n",
    "trainF_all, testF_all = replace_missing_values(trainF_all,testF_all, 'mode')"
   ]
  },
  {
   "cell_type": "code",
   "execution_count": 225,
   "metadata": {},
   "outputs": [
    {
     "name": "stdout",
     "output_type": "stream",
     "text": [
      "TEMP -> 525\n"
     ]
    }
   ],
   "source": [
    "# feature selection expansion\n",
    "trainF_sel_all = select_and_expand_f_logistic(trainF_all)"
   ]
  },
  {
   "cell_type": "code",
   "execution_count": 238,
   "metadata": {},
   "outputs": [
    {
     "data": {
      "image/png": "[encoded data removed]",
      "text/plain": [
       "<Figure size 432x288 with 1 Axes>"
      ]
     },
     "metadata": {
      "needs_background": "light"
     },
     "output_type": "display_data"
    }
   ],
   "source": [
    "all_acc_test = []\n",
    "all_acc_train = []\n",
    "all_acc_train_all = []\n",
    "\n",
    "for w in all_weights:    \n",
    "    all_acc_test.append(get_accuracy_logistic(w , testY ,testF_sel))\n",
    "    all_acc_train.append(get_accuracy_logistic(w , trainY ,trainF_sel))\n",
    "    all_acc_train_all.append(get_accuracy_logistic(w , trainY_all ,trainF_sel_all))\n",
    "    \n",
    "plt.plot(all_steps , all_acc_train  ,c='b')\n",
    "plt.plot(all_steps , all_acc_test   ,c='r')\n",
    "plt.plot(all_steps , all_acc_train_all   ,c='g')\n",
    "plt.show()"
   ]
  },
  {
   "cell_type": "code",
   "execution_count": null,
   "metadata": {},
   "outputs": [],
   "source": []
  }
 ],
 "metadata": {
  "kernelspec": {
   "display_name": "Python 3",
   "language": "python",
   "name": "python3"
  },
  "language_info": {
   "codemirror_mode": {
    "name": "ipython",
    "version": 3
   },
   "file_extension": ".py",
   "mimetype": "text/x-python",
   "name": "python",
   "nbconvert_exporter": "python",
   "pygments_lexer": "ipython3",
   "version": "3.7.3"
  }
 },
 "nbformat": 4,
 "nbformat_minor": 2
}
