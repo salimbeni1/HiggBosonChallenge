{
 "cells": [
  {
   "cell_type": "code",
   "execution_count": 43,
   "metadata": {},
   "outputs": [
    {
     "name": "stdout",
     "output_type": "stream",
     "text": [
      "The autoreload extension is already loaded. To reload it, use:\n",
      "  %reload_ext autoreload\n"
     ]
    }
   ],
   "source": [
    "# Useful starting lines\n",
    "%matplotlib inline\n",
    "import numpy as np\n",
    "import matplotlib.pyplot as plt\n",
    "from proj1_helpers import *\n",
    "from preprocessing_helpers import *\n",
    "from Basics import *\n",
    "%load_ext autoreload\n",
    "%autoreload 2"
   ]
  },
  {
   "cell_type": "code",
   "execution_count": 2,
   "metadata": {},
   "outputs": [],
   "source": [
    "DATA_TRAIN_PATH = 'data/train.csv' \n",
    "y, tX, ids = load_csv_data(DATA_TRAIN_PATH)\n"
   ]
  },
  {
   "cell_type": "code",
   "execution_count": 3,
   "metadata": {},
   "outputs": [],
   "source": [
    "# split test-train set\n",
    "indx = np.arange(y.shape[0])\n",
    "np.random.shuffle( indx )\n",
    "ind_max = int(y.shape[0] * (0.8))\n",
    "\n",
    "trainY , trainF = y[indx[:ind_max]] , tX[indx[:ind_max]]\n",
    "testY , testF = y[indx[ind_max:]] , tX[indx[ind_max:]]"
   ]
  },
  {
   "cell_type": "code",
   "execution_count": 4,
   "metadata": {},
   "outputs": [],
   "source": [
    "####### Preprocessing ######################################################################"
   ]
  },
  {
   "cell_type": "code",
   "execution_count": 5,
   "metadata": {},
   "outputs": [],
   "source": [
    "# normalize\n",
    "trainF, testF = standardize(trainF, testF)\n",
    "trainF = np.insert(trainF ,0 , np.ones(trainF.shape[0]),axis = 1) # add bias\n",
    "testF = np.insert(testF ,0 , np.ones(testF.shape[0]),axis = 1) # add bias"
   ]
  },
  {
   "cell_type": "code",
   "execution_count": 6,
   "metadata": {},
   "outputs": [],
   "source": [
    "# replace -999\n",
    "trainF, testF = replace_missing_values(trainF,testF, 'mode')\n"
   ]
  },
  {
   "cell_type": "code",
   "execution_count": 7,
   "metadata": {},
   "outputs": [],
   "source": [
    "# replace outliers\n",
    "#trainF = outliers_removal(trainF)\n",
    "#testF = outliers_removal(testF)"
   ]
  },
  {
   "cell_type": "code",
   "execution_count": 8,
   "metadata": {},
   "outputs": [],
   "source": [
    "# dataset balencing\n",
    "#trainF , trainY =  under_over(trainF, trainY, alpha=1, upsample=True, middle=True, gaussian=False, std=0.1, downsample=False)"
   ]
  },
  {
   "cell_type": "code",
   "execution_count": 68,
   "metadata": {},
   "outputs": [
    {
     "name": "stdout",
     "output_type": "stream",
     "text": [
      "TEMP -> 495\n",
      "TEMP -> 495\n"
     ]
    },
    {
     "data": {
      "text/plain": [
       "(200000, 496)"
      ]
     },
     "execution_count": 68,
     "metadata": {},
     "output_type": "execute_result"
    }
   ],
   "source": [
    "# feature selection expansion\n",
    "trainF_sel = select_and_expand_f_logistic(trainF)\n",
    "testF_sel = select_and_expand_f_logistic(testF)\n",
    "\n",
    "trainF_sel.shape"
   ]
  },
  {
   "cell_type": "code",
   "execution_count": 69,
   "metadata": {},
   "outputs": [],
   "source": [
    "###### Training/Testing ######################################################################"
   ]
  },
  {
   "cell_type": "code",
   "execution_count": 70,
   "metadata": {},
   "outputs": [],
   "source": [
    "#w_initial = np.random.rand(trainF_sel.shape[1])\n",
    "#w,_ = least_squares_GD( trainY,trainF_sel ,w_initial,2000,0.01)\n",
    "#get_accuracy(w , testY ,testF_sel )"
   ]
  },
  {
   "cell_type": "code",
   "execution_count": 71,
   "metadata": {},
   "outputs": [],
   "source": [
    "#w_initial = np.random.rand(trainF_sel.shape[1])\n",
    "#w,_ = least_squares(trainY,trainF_sel)\n",
    "#get_accuracy(w , testY ,testF_sel )"
   ]
  },
  {
   "cell_type": "code",
   "execution_count": 72,
   "metadata": {},
   "outputs": [],
   "source": [
    "#w = np.random.rand(trainF_sel.shape[1])\n",
    "#w, losses, _, _, _, _ = foo_logistic_regression(trainY, trainF_sel, w, 1000, 0.01, testY, testF_sel, 0)"
   ]
  },
  {
   "cell_type": "code",
   "execution_count": 77,
   "metadata": {},
   "outputs": [
    {
     "name": "stdout",
     "output_type": "stream",
     "text": [
      "acc 500  :  0.7768\n",
      "acc 1000 :  0.7973\n",
      "acc 2000 :  0.8091\n"
     ]
    }
   ],
   "source": [
    "w = np.random.rand(trainF_sel.shape[1])\n",
    "\n",
    "\n",
    "w, _ = logistic_regression(trainY, trainF_sel, w, 500 ,0.07/y.shape[0])\n",
    "\n",
    "w_500 = w\n",
    "print( \"acc 500  : \",get_accuracy_logistic(w_500 , testY ,testF_sel))\n",
    "\n",
    "w, _ = logistic_regression(trainY, trainF_sel, w_500, 500 ,0.07/y.shape[0])\n",
    "\n",
    "w_1000 = w\n",
    "print( \"acc 1000 : \",get_accuracy_logistic(w_1000 , testY ,testF_sel))\n",
    "\n",
    "w, _ = logistic_regression(trainY, trainF_sel, w_1000, 1000 ,0.07/y.shape[0])\n",
    "\n",
    "w_2000 = w\n",
    "print( \"acc 2000 : \",get_accuracy_logistic(w_2000 , testY ,testF_sel))"
   ]
  },
  {
   "cell_type": "code",
   "execution_count": 78,
   "metadata": {},
   "outputs": [
    {
     "name": "stdout",
     "output_type": "stream",
     "text": [
      "acc 3000 :  0.81372\n"
     ]
    }
   ],
   "source": [
    "w, _ = logistic_regression(trainY, trainF_sel, w_2000, 1000 ,0.07/y.shape[0])\n",
    "\n",
    "w_3000 = w\n",
    "print( \"acc 3000 : \",get_accuracy_logistic(w_3000 , testY ,testF_sel))"
   ]
  },
  {
   "cell_type": "code",
   "execution_count": 79,
   "metadata": {},
   "outputs": [
    {
     "name": "stdout",
     "output_type": "stream",
     "text": [
      "acc 4000 :  0.81686\n"
     ]
    }
   ],
   "source": [
    "w, _ = logistic_regression(trainY, trainF_sel, w_3000, 1000 ,0.07/y.shape[0])\n",
    "\n",
    "w_4000 = w\n",
    "print( \"acc 4000 : \",get_accuracy_logistic(w_4000 , testY ,testF_sel))"
   ]
  },
  {
   "cell_type": "code",
   "execution_count": 80,
   "metadata": {},
   "outputs": [
    {
     "name": "stdout",
     "output_type": "stream",
     "text": [
      "acc 5000 :  0.81822\n"
     ]
    }
   ],
   "source": [
    "w, _ = logistic_regression(trainY, trainF_sel, w_4000, 1000 ,0.07/y.shape[0])\n",
    "\n",
    "w_5000 = w\n",
    "print( \"acc 5000 : \",get_accuracy_logistic(w_5000 , testY ,testF_sel))"
   ]
  },
  {
   "cell_type": "code",
   "execution_count": 81,
   "metadata": {},
   "outputs": [
    {
     "name": "stdout",
     "output_type": "stream",
     "text": [
      "acc 5000 :  0.81944\n"
     ]
    }
   ],
   "source": [
    "w, _ = logistic_regression(trainY, trainF_sel, w_5000, 2000 ,0.07/y.shape[0])\n",
    "\n",
    "w_7000 = w\n",
    "print( \"acc 7000 : \",get_accuracy_logistic(w_7000 , testY ,testF_sel))"
   ]
  },
  {
   "cell_type": "code",
   "execution_count": 82,
   "metadata": {},
   "outputs": [
    {
     "name": "stdout",
     "output_type": "stream",
     "text": [
      "acc 9000 :  0.82056\n"
     ]
    }
   ],
   "source": [
    "w, _ = logistic_regression(trainY, trainF_sel, w_7000, 2000 ,0.07/y.shape[0])\n",
    "\n",
    "w_9000 = w\n",
    "print( \"acc 9000 : \",get_accuracy_logistic(w_9000 , testY ,testF_sel))"
   ]
  },
  {
   "cell_type": "code",
   "execution_count": 83,
   "metadata": {},
   "outputs": [
    {
     "name": "stdout",
     "output_type": "stream",
     "text": [
      "acc 10000 :  0.82042\n"
     ]
    }
   ],
   "source": [
    "w, _ = logistic_regression(trainY, trainF_sel, w_9000, 1000 ,0.07/y.shape[0])\n",
    "\n",
    "w_10000 = w\n",
    "print( \"acc 10000 : \",get_accuracy_logistic(w_10000 , testY ,testF_sel))"
   ]
  },
  {
   "cell_type": "code",
   "execution_count": 84,
   "metadata": {},
   "outputs": [
    {
     "name": "stdout",
     "output_type": "stream",
     "text": [
      "acc 10000 :  0.8211\n"
     ]
    }
   ],
   "source": [
    "w, _ = logistic_regression(trainY, trainF_sel, w_10000, 5000 ,0.07/y.shape[0])\n",
    "\n",
    "w_15000 = w\n",
    "print( \"acc 15000 : \",get_accuracy_logistic(w_15000 , testY ,testF_sel))"
   ]
  },
  {
   "cell_type": "code",
   "execution_count": 85,
   "metadata": {},
   "outputs": [
    {
     "name": "stdout",
     "output_type": "stream",
     "text": [
      "acc 20000 :  0.82138\n"
     ]
    }
   ],
   "source": [
    "w, _ = logistic_regression(trainY, trainF_sel, w_15000, 5000 ,0.07/y.shape[0])\n",
    "\n",
    "w_20000 = w\n",
    "print( \"acc 20000 : \",get_accuracy_logistic(w_20000 , testY ,testF_sel))"
   ]
  },
  {
   "cell_type": "code",
   "execution_count": null,
   "metadata": {},
   "outputs": [],
   "source": []
  }
 ],
 "metadata": {
  "kernelspec": {
   "display_name": "Python 3",
   "language": "python",
   "name": "python3"
  },
  "language_info": {
   "codemirror_mode": {
    "name": "ipython",
    "version": 3
   },
   "file_extension": ".py",
   "mimetype": "text/x-python",
   "name": "python",
   "nbconvert_exporter": "python",
   "pygments_lexer": "ipython3",
   "version": "3.7.3"
  }
 },
 "nbformat": 4,
 "nbformat_minor": 2
}
